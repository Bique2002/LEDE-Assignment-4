{
 "cells": [
  {
   "attachments": {},
   "cell_type": "markdown",
   "metadata": {},
   "source": [
    "# WeatherAPI (WeatherAPI, hiding API keys)\n",
    "\n",
    "Answer the following questions using [WeatherAPI](http://www.weatherapi.com/). It's a smaller assignment than the last weather one, and mostly serves to get you used to creating API urls and using `python-dotenv`.\n",
    "\n",
    "Hold `Shift` and hit `Enter` to run a cell, and use the `+` on the top left to add a new cell to a notebook. Be sure to take advantage of both the documentation and the API Explorer!\n",
    "\n",
    "## 0) Import any libraries you might need\n",
    "\n",
    "- *Tip: We're going to be downloading things from the internet, so we probably need `requests`.*\n",
    "- *Tip: Remember you only need to import requests once!*"
   ]
  },
  {
   "cell_type": "code",
   "execution_count": 43,
   "metadata": {
    "collapsed": true
   },
   "outputs": [],
   "source": [
    "import requests\n",
    "import json\n"
   ]
  },
  {
   "cell_type": "code",
   "execution_count": null,
   "metadata": {},
   "outputs": [],
   "source": []
  },
  {
   "attachments": {},
   "cell_type": "markdown",
   "metadata": {},
   "source": [
    "## 1) Use the `python-dotenv` package to import your WeatherAPI API key\n",
    "\n",
    "We're going to be posting this code on GitHub, so you'll want to hide your API keys! Take a look at [this video](https://www.youtube.com/watch?v=YdgIWTYQ69A) about how to hide API keys from public view while still using them. It involves creating a separate `.env` file (use either VS Code or create it using Jupyter) that includes your API key, then importing it with [python-dotenv](https://github.com/theskumar/python-dotenv).\n",
    "\n",
    "Save this as a variable called `API_KEY`."
   ]
  },
  {
   "cell_type": "code",
   "execution_count": 44,
   "metadata": {
    "collapsed": true
   },
   "outputs": [],
   "source": [
    "from dotenv import load_dotenv\n",
    "import os\n",
    "\n",
    "load_dotenv()   #environment variables\n",
    "\n",
    "api_key = os.getenv(\"api_key_weather\")"
   ]
  },
  {
   "attachments": {},
   "cell_type": "markdown",
   "metadata": {},
   "source": [
    "## 2) Print the URL for the current forecast in New York City\n",
    "\n",
    "This is really just a test to make sure you can still create a URL when the API key is read in as a variable."
   ]
  },
  {
   "cell_type": "code",
   "execution_count": 45,
   "metadata": {},
   "outputs": [
    {
     "name": "stdout",
     "output_type": "stream",
     "text": [
      "The current weather is: http://api.weatherapi.com/v1/current.json?key=879a12dce40c453ca7a170009231306&q=New-York-City&aqi=no\n"
     ]
    }
   ],
   "source": [
    "base = \"http://api.weatherapi.com/v1\"\n",
    "location= \"New-York-City\"\n",
    "\n",
    "current_weather_url = print(f\"The current weather is: {base}/current.json?key={api_key}&q={location}&aqi=no\")\n"
   ]
  },
  {
   "attachments": {},
   "cell_type": "markdown",
   "metadata": {
    "collapsed": true
   },
   "source": [
    "## 2) Compare the air quality for NYC and Toronto, Canada\n",
    "\n",
    "Using PM2.5 measurements, compare the air quality of NYC and Toronto, Canada. If NYC has a higher PM2.5 measurement than Toronto, print \"NYC is worse.\" If Toronto's is higher, print \"Toronto is worse.\"\n",
    "\n",
    "- *Hint: This NYC URL is based on the URL for the current weather of NYC, but is a tiny tiny bit different.*\n",
    "- *Hint: You'll need to add an additional option to the URL to include air quality data*\n",
    "- *Hint: You'll (probably) need multiple variables instead of just using `data` twice*"
   ]
  },
  {
   "cell_type": "code",
   "execution_count": 46,
   "metadata": {},
   "outputs": [
    {
     "name": "stdout",
     "output_type": "stream",
     "text": [
      "6.20\n"
     ]
    }
   ],
   "source": [
    "base = \"http://api.weatherapi.com/v1\"\n",
    "location= \"New-York-City\"\n",
    "\n",
    "nyc_weather_url = f\"{base}/current.json?key={api_key}&q={location}&aqi=yes\"\n",
    "\n",
    "response=requests.get(nyc_weather_url)\n",
    "nydata = response.json()\n",
    "\n",
    "# print(nydata.keys())\n",
    "\n",
    "air = nydata['current']['air_quality']\n",
    "\n",
    "for stuff in air:\n",
    "    air_index_nyc = air['pm2_5']\n",
    "    print(f'{air_index_nyc:.2f}')\n",
    "    break"
   ]
  },
  {
   "cell_type": "code",
   "execution_count": 47,
   "metadata": {},
   "outputs": [
    {
     "name": "stdout",
     "output_type": "stream",
     "text": [
      "5.30\n"
     ]
    }
   ],
   "source": [
    "base = \"http://api.weatherapi.com/v1\"\n",
    "location= \"Toronto\"\n",
    "\n",
    "toronto_weather_url = (f\"{base}/current.json?key={api_key}&q={location}&aqi=yes\")\n",
    "\n",
    "response=requests.get(toronto_weather_url)\n",
    "todata = response.json()\n",
    "\n",
    "air = todata['current']['air_quality']\n",
    "\n",
    "for stuff in air:\n",
    "    air_index_to = air['pm2_5']\n",
    "    print(f'{air_index_to:.2f}')\n",
    "    break"
   ]
  },
  {
   "cell_type": "code",
   "execution_count": 48,
   "metadata": {},
   "outputs": [
    {
     "name": "stdout",
     "output_type": "stream",
     "text": [
      "NYC is worse.\n"
     ]
    }
   ],
   "source": [
    "if air_index_nyc > air_index_to:\n",
    "    print(f\"NYC is worse.\")\n",
    "else:\n",
    "    print(f\"Toronto is worse.\")"
   ]
  },
  {
   "attachments": {},
   "cell_type": "markdown",
   "metadata": {},
   "source": [
    "## 2) Print the time zones for both NYC and Toronto.\n",
    "\n",
    "If they have the same time, print \"it is (the time) in both cities.\" If not, print \"It is (nyc time) in NYC and (Toronto time) in Toronto.\"\n",
    "\n",
    "- *Hint: Both cities should have the same local time. If they don't, what's going on? It's a code issue!*\n",
    "- *Hint: f-strings are unwieldy here, I'd just use the comma version of `print`*"
   ]
  },
  {
   "cell_type": "code",
   "execution_count": 49,
   "metadata": {},
   "outputs": [
    {
     "name": "stdout",
     "output_type": "stream",
     "text": [
      "The time in NYC is: 2023-06-23 20:55\n"
     ]
    }
   ],
   "source": [
    "\n",
    "response=requests.get(nyc_weather_url)\n",
    "nydata = response.json()\n",
    "\n",
    "# print(nydata.keys())\n",
    "\n",
    "place = nydata['location']\n",
    "\n",
    "for stuff in place:\n",
    "    local_time_nyc = place['localtime']\n",
    "    print(\"The time in NYC is:\", local_time_nyc)\n",
    "    break"
   ]
  },
  {
   "cell_type": "code",
   "execution_count": 50,
   "metadata": {},
   "outputs": [
    {
     "name": "stdout",
     "output_type": "stream",
     "text": [
      "The time in Toronto is: 2023-06-23 20:55\n"
     ]
    }
   ],
   "source": [
    "response=requests.get(toronto_weather_url)\n",
    "todata = response.json()\n",
    "\n",
    "\n",
    "canplace = todata['location']\n",
    "\n",
    "for stuff in canplace:\n",
    "    local_time_to = canplace['localtime']\n",
    "    print(\"The time in Toronto is:\", local_time_to)\n",
    "    break"
   ]
  },
  {
   "cell_type": "code",
   "execution_count": 51,
   "metadata": {},
   "outputs": [],
   "source": [
    "# one min difference??"
   ]
  },
  {
   "attachments": {},
   "cell_type": "markdown",
   "metadata": {},
   "source": [
    "## 3) Speaking of Canada, don't they have a London up there?\n",
    "\n",
    "Print out every city that is called \"London,\" along with the region and country it is in. Your output should look like:\n",
    "\n",
    "```\n",
    "There is a London in United Kingdom\n",
    "There is a London in Canada\n",
    "```\n",
    "\n",
    "Do **not** print out `Londonderry`, since it isn't actually a London.\n",
    "\n",
    "- *Hint: You'll need an `if` for that last part*"
   ]
  },
  {
   "cell_type": "code",
   "execution_count": 52,
   "metadata": {},
   "outputs": [
    {
     "name": "stdout",
     "output_type": "stream",
     "text": [
      "There is a London in United Kingdom\n",
      "There is a London in Canada\n"
     ]
    }
   ],
   "source": [
    "base = \"http://api.weatherapi.com/v1\"\n",
    "location= \"London\"\n",
    "\n",
    "search_url = (f\"{base}/search.json?key={api_key}&q={location}\")\n",
    "\n",
    "response=requests.get(search_url)\n",
    "london_search = response.json()\n",
    "# print(london_search)\n",
    "\n",
    "for londons in london_search:\n",
    "    name = londons['name']\n",
    "    # region = londons['region']\n",
    "    country = londons['country']\n",
    "    if londons['name'] == 'London':\n",
    "        print (f'There is a {name} in {country}')"
   ]
  },
  {
   "cell_type": "code",
   "execution_count": null,
   "metadata": {},
   "outputs": [],
   "source": []
  }
 ],
 "metadata": {
  "kernelspec": {
   "display_name": "Python 3 (ipykernel)",
   "language": "python",
   "name": "python3"
  },
  "language_info": {
   "codemirror_mode": {
    "name": "ipython",
    "version": 3
   },
   "file_extension": ".py",
   "mimetype": "text/x-python",
   "name": "python",
   "nbconvert_exporter": "python",
   "pygments_lexer": "ipython3",
   "version": "3.10.11"
  }
 },
 "nbformat": 4,
 "nbformat_minor": 1
}
