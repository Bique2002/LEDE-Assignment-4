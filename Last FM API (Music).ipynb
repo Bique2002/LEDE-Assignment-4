{
 "cells": [
  {
   "attachments": {},
   "cell_type": "markdown",
   "metadata": {},
   "source": [
    "# Last FM API (Music)\n",
    "\n",
    "Spotify's API is dead to us, so we're using Last.fm's - it's still music, just not as nice of an API.\n",
    "\n",
    "1. Create an account at https://www.last.fm/api/\n",
    "2. Create an \"application\" to get a key: https://www.last.fm/api/account/create\n",
    "    - It isn't a real application, it's just your project\n",
    "    - Name/description doesn't matter, ignore callback key and callback url\n",
    "3. And save the API key that shows up on the next screen\n",
    "\n",
    "You can find documentation at https://www.last.fm/api/\n",
    "\n",
    "The domain for the API is `http://ws.audioscrobbler.com`, so all of your endpoints will be connected to that. To test your API key, check the following URL in your browser: `http://ws.audioscrobbler.com/2.0/?method=artist.search&artist=cher&api_key=XXXXXXXXXXXXXXXXXXXX&format=json` (change the `XXXXXX` to be your API key, of course!).\n",
    "\n",
    "> Last.fm used to be called **AudioScrobbler**, which is why its URLs don't have \"last.fm\" in them.\n",
    "> While we're asking about URLs, notice that the API endpoints have a lot of `?` and `&` in them - these are key/value pairs, kind of like dictionaries, but for URLs instead of Python."
   ]
  },
  {
   "attachments": {},
   "cell_type": "markdown",
   "metadata": {},
   "source": [
    "# FIRST: SETUP"
   ]
  },
  {
   "attachments": {},
   "cell_type": "markdown",
   "metadata": {},
   "source": [
    "## 1) Import the libraries/packages you might need\n",
    "\n",
    "We need a library to read in the data for us! We don't like `urllib2`, so it must be something cooler and better."
   ]
  },
  {
   "cell_type": "code",
   "execution_count": 289,
   "metadata": {},
   "outputs": [],
   "source": [
    "# Import what you need here\n",
    "import requests\n",
    "import json\n",
    "\n",
    "from dotenv import load_dotenv\n",
    "import os\n",
    "load_dotenv()   #environment variables\n",
    "\n",
    "api_key = os.getenv(\"api_key_fm\")"
   ]
  },
  {
   "attachments": {},
   "cell_type": "markdown",
   "metadata": {},
   "source": [
    "## 2) Save your API key\n",
    "\n",
    "Write your API key here so you don't forget it - it's the \"api key\" one, not the \"shared secret\" one"
   ]
  },
  {
   "attachments": {},
   "cell_type": "markdown",
   "metadata": {},
   "source": [
    "## 3) The death of an API\n",
    "\n",
    "I used to have some code here that allowed you to display images, but _the images don't work any more._ Let this be an important lesson: when you depend on external services, they can die at any time."
   ]
  },
  {
   "cell_type": "code",
   "execution_count": null,
   "metadata": {},
   "outputs": [],
   "source": []
  },
  {
   "attachments": {},
   "cell_type": "markdown",
   "metadata": {},
   "source": [
    "# NOW: YOUR ASSIGNMENT"
   ]
  },
  {
   "attachments": {},
   "cell_type": "markdown",
   "metadata": {},
   "source": [
    "## 1) Search for and print a list of 50 musicians with `lil` in their name, along with the number of listeners they have\n",
    "\n",
    "There are a lot of musicians with \"Lil\" in their name - it used to be all Lil Wayne and Lil Kim, but we live in a new world now!\n",
    "\n",
    "- *Tip: Remember, the domain for the API is `http://ws.audioscrobbler.com`*\n",
    "- *Tip: Make sure you ask the API for 50 musicians! This involves adding another parameter to the URL - notice they all have a `&` before them. [Read the documentation](http://www.last.fm/api/show/artist.search) to find the parameter's name.* \n",
    "- *Tip: When you are looking at any piece of data - is it a dictionary? Look at the keys! Is it a list? Look at the first element!*\n",
    "- *Tip: LOOK AT THE KEYS. and then the other keys and the other keys and the other keys. It's an ugly series of dictionaries!*"
   ]
  },
  {
   "cell_type": "code",
   "execution_count": 290,
   "metadata": {},
   "outputs": [],
   "source": [
    "base = \"http://ws.audioscrobbler.com/2.0/\"\n",
    "artist = \"lil\"\n",
    "limit = 50"
   ]
  },
  {
   "cell_type": "code",
   "execution_count": 291,
   "metadata": {},
   "outputs": [],
   "source": [
    "similar_artist_url = f\"{base}/?method=artist.search&artist={artist}&api_key={api_key}&limit={limit}&format=json\"\n",
    "\n",
    "response=requests.get(similar_artist_url)\n",
    "data = response.json()\n",
    "\n",
    "# print(data)\n",
    "# print(similar_artist_url)"
   ]
  },
  {
   "cell_type": "code",
   "execution_count": 292,
   "metadata": {},
   "outputs": [
    {
     "name": "stdout",
     "output_type": "stream",
     "text": [
      "LIL UZI VERT has 1443972 listeners\n",
      "LIL PEEP has 1131218 listeners\n",
      "Lil Nas X has 1748446 listeners\n",
      "Lil Baby has 886047 listeners\n",
      "Lily Allen has 2681830 listeners\n",
      "Lil Yachty has 963531 listeners\n",
      "Lil' Wayne has 3380124 listeners\n",
      "Lil Tecca has 731244 listeners\n",
      "Lil Wayne has 1039124 listeners\n",
      "Lil Durk has 591144 listeners\n",
      "lil tjay has 578442 listeners\n",
      "lil skies has 493008 listeners\n",
      "Lil Darkie has 326243 listeners\n",
      "Lil Ugly Mane has 260798 listeners\n",
      "lil Mosey has 594214 listeners\n",
      "Lil B has 389184 listeners\n",
      "LIL PUMP has 503178 listeners\n",
      "LIL TRACY has 209279 listeners\n",
      "Lil Keed has 240666 listeners\n",
      "Lil Dicky has 461444 listeners\n",
      "Lil' Kim has 624202 listeners\n",
      "Lil Xan has 324533 listeners\n",
      "Lil Shine has 50112 listeners\n",
      "Lil Loaded has 158502 listeners\n",
      "LIL GNAR has 245204 listeners\n",
      "lil mabu has 165759 listeners\n",
      "lilbubblegum has 146875 listeners\n",
      "Lilypichu has 95551 listeners\n",
      "Lilly Wood & The Prick has 438057 listeners\n",
      "LIL DUSTY G has 134914 listeners\n",
      "Lil Jon & The East Side Boyz has 671314 listeners\n",
      "Lily Chou-Chou has 119548 listeners\n",
      "Lil Revive has 47005 listeners\n",
      "Lilac has 261847 listeners\n",
      "Lil Jon has 698485 listeners\n",
      "Lil Eazzyy has 176456 listeners\n",
      "Fenne Lily has 248437 listeners\n",
      "LIL BO WEEP has 94970 listeners\n",
      "Lil Aaron has 142953 listeners\n",
      "Lil Kleine has 97006 listeners\n",
      "Lil Gotit has 81561 listeners\n",
      "Lily James has 156934 listeners\n",
      "Lil Candy Paint has 126373 listeners\n",
      "Lil Boodang has 121775 listeners\n",
      "Lil Mariko has 98921 listeners\n",
      "Lilly Wood and The Prick has 200804 listeners\n",
      "Lila Downs has 193752 listeners\n",
      "Lil Lotus has 70152 listeners\n",
      "Lil God Dan has 78213 listeners\n",
      "The Tiger Lillies has 125822 listeners\n"
     ]
    }
   ],
   "source": [
    "sim_artist = data['results']['artistmatches']['artist']\n",
    "listen = 0\n",
    "\n",
    "for people in sim_artist:\n",
    "    artist_lil = people['name']\n",
    "    streams = people['listeners']\n",
    "    listen = int(streams) + listen\n",
    "    print(f\"{artist_lil} has {streams} listeners\")\n",
    "\n",
    "\n"
   ]
  },
  {
   "cell_type": "code",
   "execution_count": 293,
   "metadata": {},
   "outputs": [],
   "source": [
    "# similar_artist_url = f\"{base}/?method=artist.getinfo&artist={artist}&api_key={api_key}&limit={limit}&autocorrect=1&format=json\"\n",
    "\n",
    "# response=requests.get(similar_artist_url)\n",
    "# data = response.json()\n",
    "\n",
    "# print(data)\n",
    "\n",
    "\n",
    "# sim_artist = data['artist']\n",
    "\n",
    "# for people in sim_artist:\n",
    "#     artist_lil = sim_artist['name']\n",
    "#     streams = sim_artist['stats']['listeners']\n",
    "#     print(f\"{artist_lil} has {streams} listeners\")\n",
    "\n",
    "# print(streams)"
   ]
  },
  {
   "attachments": {},
   "cell_type": "markdown",
   "metadata": {},
   "source": [
    "Your results should begin something like this:\n",
    "    \n",
    "```\n",
    "Lil' Wayne has 3086628 listeners\n",
    "Lily Allen has 2074266 listeners\n",
    "Lil B has 194116 listeners\n",
    "Lilly Wood & The Prick has 359886 listeners\n",
    "Lil Ugly Mane has 31955 listeners\n",
    "LIL UZI VERT has 88517 listeners\n",
    "```"
   ]
  },
  {
   "attachments": {},
   "cell_type": "markdown",
   "metadata": {},
   "source": [
    "## 2) How many listeners does your list have in total?\n",
    "\n",
    "The answer should be roughly **15,000,000**. If it's lower, make sure you have 50 artists instead of 30 artists.\n",
    "\n",
    "- *Tip: What's the data type of the `listeners` count? It's going to cause a problem!*\n",
    "- *Tip: If you were crazy you could use sum and a list comprehension. But you really don't have to!*"
   ]
  },
  {
   "cell_type": "code",
   "execution_count": 294,
   "metadata": {},
   "outputs": [
    {
     "name": "stdout",
     "output_type": "stream",
     "text": [
      "The list has 24,849,173 listeners\n"
     ]
    }
   ],
   "source": [
    "print(f\"The list has {listen:,} listeners\")"
   ]
  },
  {
   "cell_type": "code",
   "execution_count": null,
   "metadata": {},
   "outputs": [],
   "source": []
  },
  {
   "attachments": {},
   "cell_type": "markdown",
   "metadata": {},
   "source": [
    "## 3) Show each artist's name and the URL to the extra-large image\n",
    "\n",
    "The images don't work any more, but we'll print their URLs out anyway."
   ]
  },
  {
   "attachments": {},
   "cell_type": "markdown",
   "metadata": {},
   "source": [
    "Each artist **has a list of images of different sizes**. We're interested in the second-to-last one, where `size` is `extralarge`. Print their name and use `display_image` to display their extra-large image.\n",
    "\n",
    "- *Tip: The URL should look like this: `https://lastfm-img2.akamaized.net/i/u/300x300/0fc7d7a1812dc79e9925d80382cde594.png`*\n",
    "- *Tip: You can always assume it's the second to the last, or assume it's `extralarge`, or whatever you want to do to find it.*\n",
    "- *Tip: Make sure the URL is correct before you try to display it.*\n",
    "\n",
    "Your output should look something like\n",
    "\n",
    "```\n",
    "Lil' Wayne\n",
    "https://lastfm.freetls.fastly.net/i/u/300x300/2a96cbd8b46e442fc41c2b86b821562f.png\n",
    "---\n",
    "LIL UZI VERT\n",
    "https://lastfm.freetls.fastly.net/i/u/300x300/2a96cbd8b46e442fc41c2b86b821562f.png\n",
    "---\n",
    "Lily Allen\n",
    "https://lastfm.freetls.fastly.net/i/u/300x300/2a96cbd8b46e442fc41c2b86b821562f.png\n",
    "---\n",
    "```\n",
    "\n",
    "(but with more people, obviously)"
   ]
  },
  {
   "cell_type": "code",
   "execution_count": 295,
   "metadata": {},
   "outputs": [
    {
     "name": "stdout",
     "output_type": "stream",
     "text": [
      "LIL UZI VERT\n",
      " https://lastfm.freetls.fastly.net/i/u/300x300/2a96cbd8b46e442fc41c2b86b821562f.png\n",
      " ---\n",
      "LIL PEEP\n",
      " https://lastfm.freetls.fastly.net/i/u/300x300/2a96cbd8b46e442fc41c2b86b821562f.png\n",
      " ---\n",
      "Lil Nas X\n",
      " https://lastfm.freetls.fastly.net/i/u/300x300/2a96cbd8b46e442fc41c2b86b821562f.png\n",
      " ---\n",
      "Lil Baby\n",
      " https://lastfm.freetls.fastly.net/i/u/300x300/2a96cbd8b46e442fc41c2b86b821562f.png\n",
      " ---\n",
      "Lily Allen\n",
      " https://lastfm.freetls.fastly.net/i/u/300x300/2a96cbd8b46e442fc41c2b86b821562f.png\n",
      " ---\n",
      "Lil Yachty\n",
      " https://lastfm.freetls.fastly.net/i/u/300x300/2a96cbd8b46e442fc41c2b86b821562f.png\n",
      " ---\n",
      "Lil' Wayne\n",
      " https://lastfm.freetls.fastly.net/i/u/300x300/2a96cbd8b46e442fc41c2b86b821562f.png\n",
      " ---\n",
      "Lil Tecca\n",
      " https://lastfm.freetls.fastly.net/i/u/300x300/2a96cbd8b46e442fc41c2b86b821562f.png\n",
      " ---\n",
      "Lil Wayne\n",
      " https://lastfm.freetls.fastly.net/i/u/300x300/2a96cbd8b46e442fc41c2b86b821562f.png\n",
      " ---\n",
      "Lil Durk\n",
      " https://lastfm.freetls.fastly.net/i/u/300x300/2a96cbd8b46e442fc41c2b86b821562f.png\n",
      " ---\n",
      "lil tjay\n",
      " https://lastfm.freetls.fastly.net/i/u/300x300/2a96cbd8b46e442fc41c2b86b821562f.png\n",
      " ---\n",
      "lil skies\n",
      " https://lastfm.freetls.fastly.net/i/u/300x300/2a96cbd8b46e442fc41c2b86b821562f.png\n",
      " ---\n",
      "Lil Darkie\n",
      " https://lastfm.freetls.fastly.net/i/u/300x300/2a96cbd8b46e442fc41c2b86b821562f.png\n",
      " ---\n",
      "Lil Ugly Mane\n",
      " https://lastfm.freetls.fastly.net/i/u/300x300/2a96cbd8b46e442fc41c2b86b821562f.png\n",
      " ---\n",
      "lil Mosey\n",
      " https://lastfm.freetls.fastly.net/i/u/300x300/2a96cbd8b46e442fc41c2b86b821562f.png\n",
      " ---\n",
      "Lil B\n",
      " https://lastfm.freetls.fastly.net/i/u/300x300/2a96cbd8b46e442fc41c2b86b821562f.png\n",
      " ---\n",
      "LIL PUMP\n",
      " https://lastfm.freetls.fastly.net/i/u/300x300/2a96cbd8b46e442fc41c2b86b821562f.png\n",
      " ---\n",
      "LIL TRACY\n",
      " https://lastfm.freetls.fastly.net/i/u/300x300/2a96cbd8b46e442fc41c2b86b821562f.png\n",
      " ---\n",
      "Lil Keed\n",
      " https://lastfm.freetls.fastly.net/i/u/300x300/2a96cbd8b46e442fc41c2b86b821562f.png\n",
      " ---\n",
      "Lil Dicky\n",
      " https://lastfm.freetls.fastly.net/i/u/300x300/2a96cbd8b46e442fc41c2b86b821562f.png\n",
      " ---\n",
      "Lil' Kim\n",
      " https://lastfm.freetls.fastly.net/i/u/300x300/2a96cbd8b46e442fc41c2b86b821562f.png\n",
      " ---\n",
      "Lil Xan\n",
      " https://lastfm.freetls.fastly.net/i/u/300x300/2a96cbd8b46e442fc41c2b86b821562f.png\n",
      " ---\n",
      "Lil Shine\n",
      " https://lastfm.freetls.fastly.net/i/u/300x300/2a96cbd8b46e442fc41c2b86b821562f.png\n",
      " ---\n",
      "Lil Loaded\n",
      " https://lastfm.freetls.fastly.net/i/u/300x300/2a96cbd8b46e442fc41c2b86b821562f.png\n",
      " ---\n",
      "LIL GNAR\n",
      " https://lastfm.freetls.fastly.net/i/u/300x300/2a96cbd8b46e442fc41c2b86b821562f.png\n",
      " ---\n",
      "lil mabu\n",
      " https://lastfm.freetls.fastly.net/i/u/300x300/2a96cbd8b46e442fc41c2b86b821562f.png\n",
      " ---\n",
      "lilbubblegum\n",
      " https://lastfm.freetls.fastly.net/i/u/300x300/2a96cbd8b46e442fc41c2b86b821562f.png\n",
      " ---\n",
      "Lilypichu\n",
      " https://lastfm.freetls.fastly.net/i/u/300x300/2a96cbd8b46e442fc41c2b86b821562f.png\n",
      " ---\n",
      "Lilly Wood & The Prick\n",
      " https://lastfm.freetls.fastly.net/i/u/300x300/2a96cbd8b46e442fc41c2b86b821562f.png\n",
      " ---\n",
      "LIL DUSTY G\n",
      " https://lastfm.freetls.fastly.net/i/u/300x300/2a96cbd8b46e442fc41c2b86b821562f.png\n",
      " ---\n",
      "Lil Jon & The East Side Boyz\n",
      " https://lastfm.freetls.fastly.net/i/u/300x300/2a96cbd8b46e442fc41c2b86b821562f.png\n",
      " ---\n",
      "Lily Chou-Chou\n",
      " https://lastfm.freetls.fastly.net/i/u/300x300/2a96cbd8b46e442fc41c2b86b821562f.png\n",
      " ---\n",
      "Lil Revive\n",
      " https://lastfm.freetls.fastly.net/i/u/300x300/2a96cbd8b46e442fc41c2b86b821562f.png\n",
      " ---\n",
      "Lilac\n",
      " https://lastfm.freetls.fastly.net/i/u/300x300/2a96cbd8b46e442fc41c2b86b821562f.png\n",
      " ---\n",
      "Lil Jon\n",
      " https://lastfm.freetls.fastly.net/i/u/300x300/2a96cbd8b46e442fc41c2b86b821562f.png\n",
      " ---\n",
      "Lil Eazzyy\n",
      " https://lastfm.freetls.fastly.net/i/u/300x300/2a96cbd8b46e442fc41c2b86b821562f.png\n",
      " ---\n",
      "Fenne Lily\n",
      " https://lastfm.freetls.fastly.net/i/u/300x300/2a96cbd8b46e442fc41c2b86b821562f.png\n",
      " ---\n",
      "LIL BO WEEP\n",
      " https://lastfm.freetls.fastly.net/i/u/300x300/2a96cbd8b46e442fc41c2b86b821562f.png\n",
      " ---\n",
      "Lil Aaron\n",
      " https://lastfm.freetls.fastly.net/i/u/300x300/2a96cbd8b46e442fc41c2b86b821562f.png\n",
      " ---\n",
      "Lil Kleine\n",
      " https://lastfm.freetls.fastly.net/i/u/300x300/2a96cbd8b46e442fc41c2b86b821562f.png\n",
      " ---\n",
      "Lil Gotit\n",
      " https://lastfm.freetls.fastly.net/i/u/300x300/2a96cbd8b46e442fc41c2b86b821562f.png\n",
      " ---\n",
      "Lily James\n",
      " https://lastfm.freetls.fastly.net/i/u/300x300/2a96cbd8b46e442fc41c2b86b821562f.png\n",
      " ---\n",
      "Lil Candy Paint\n",
      " https://lastfm.freetls.fastly.net/i/u/300x300/2a96cbd8b46e442fc41c2b86b821562f.png\n",
      " ---\n",
      "Lil Boodang\n",
      " https://lastfm.freetls.fastly.net/i/u/300x300/2a96cbd8b46e442fc41c2b86b821562f.png\n",
      " ---\n",
      "Lil Mariko\n",
      " https://lastfm.freetls.fastly.net/i/u/300x300/2a96cbd8b46e442fc41c2b86b821562f.png\n",
      " ---\n",
      "Lilly Wood and The Prick\n",
      " https://lastfm.freetls.fastly.net/i/u/300x300/2a96cbd8b46e442fc41c2b86b821562f.png\n",
      " ---\n",
      "Lila Downs\n",
      " https://lastfm.freetls.fastly.net/i/u/300x300/2a96cbd8b46e442fc41c2b86b821562f.png\n",
      " ---\n",
      "Lil Lotus\n",
      " https://lastfm.freetls.fastly.net/i/u/300x300/2a96cbd8b46e442fc41c2b86b821562f.png\n",
      " ---\n",
      "Lil God Dan\n",
      " https://lastfm.freetls.fastly.net/i/u/300x300/2a96cbd8b46e442fc41c2b86b821562f.png\n",
      " ---\n",
      "The Tiger Lillies\n",
      " https://lastfm.freetls.fastly.net/i/u/300x300/2a96cbd8b46e442fc41c2b86b821562f.png\n",
      " ---\n"
     ]
    }
   ],
   "source": [
    "# print(sim_artist)\n",
    "\n",
    "xl_artist = data['results']['artistmatches']['artist']\n",
    "listen = 0\n",
    "\n",
    "for people in xl_artist:\n",
    "    artist_xlimg = people['name']\n",
    "    for things in people['image']:\n",
    "        if things['size'] == 'extralarge':\n",
    "            artist_img = things['#text']\n",
    "            print(f\"{artist_xlimg}\\n {artist_img}\\n ---\")\n",
    "            break"
   ]
  },
  {
   "attachments": {},
   "cell_type": "markdown",
   "metadata": {},
   "source": [
    "## 4) Find Lil Jon's `mbid` (or anyone else's!).\n",
    "\n",
    "Oftentimes in an API, you can do a few things: you can **search** for items, and you can **see more information** about items. To find more information about the item, you need to use their **unique id**. In this dataset, it's called an `mbid` (MusicBrainz, I think - another company associated with last.fm!).\n",
    "\n",
    "Go through the artists and print their **name and mbid**. Find Lil Jon's `mbid`. I *wanted* Lil Uzi Vert's, but for some reason it isn't there. Then I wanted us to look at Lily Allen's, but I just couldn't bring myself to do that. If you'd rather do someone else, go for it."
   ]
  },
  {
   "cell_type": "code",
   "execution_count": 296,
   "metadata": {},
   "outputs": [
    {
     "name": "stdout",
     "output_type": "stream",
     "text": [
      "Lil Jon\n",
      " a95384b1-6aec-468c-ae0d-8c6daf87c4c2\n",
      " ---\n"
     ]
    }
   ],
   "source": [
    "# print(sim_artist)\n",
    "\n",
    "uni_artist = data['results']['artistmatches']['artist']\n",
    "\n",
    "for people in uni_artist:\n",
    "    artist_name = people['name']\n",
    "    if artist_name == 'Lil Jon':\n",
    "        uni_id = people['mbid']\n",
    "        print(f\"{artist_name}\\n {uni_id}\\n ---\")\n",
    "        break"
   ]
  },
  {
   "cell_type": "code",
   "execution_count": 297,
   "metadata": {},
   "outputs": [
    {
     "name": "stdout",
     "output_type": "stream",
     "text": [
      "LIL UZI VERT\n",
      " \n",
      " ---\n",
      "LIL PEEP\n",
      " \n",
      " ---\n",
      "Lil Nas X\n",
      " \n",
      " ---\n",
      "Lil Baby\n",
      " \n",
      " ---\n",
      "Lily Allen\n",
      " 6e0c7c0e-cba5-4c2c-a652-38f71ef5785d\n",
      " ---\n",
      "Lil Yachty\n",
      " \n",
      " ---\n",
      "Lil' Wayne\n",
      " \n",
      " ---\n",
      "Lil Tecca\n",
      " \n",
      " ---\n",
      "Lil Wayne\n",
      " ac9a487a-d9d2-4f27-bb23-0f4686488345\n",
      " ---\n",
      "Lil Durk\n",
      " c9cd225b-4883-428e-82c2-73e0b6282fb6\n",
      " ---\n",
      "lil tjay\n",
      " \n",
      " ---\n",
      "lil skies\n",
      " \n",
      " ---\n",
      "Lil Darkie\n",
      " \n",
      " ---\n",
      "Lil Ugly Mane\n",
      " 5f1adfe1-4d07-4141-b181-79e5d379d539\n",
      " ---\n",
      "lil Mosey\n",
      " \n",
      " ---\n",
      "Lil B\n",
      " 1550f952-c91b-40d7-9b4d-d26a259ee932\n",
      " ---\n",
      "LIL PUMP\n",
      " \n",
      " ---\n",
      "LIL TRACY\n",
      " \n",
      " ---\n",
      "Lil Keed\n",
      " \n",
      " ---\n",
      "Lil Dicky\n",
      " 3268f062-6e76-480a-a384-e1dd2a276afb\n",
      " ---\n",
      "Lil' Kim\n",
      " bc1b5c95-e6d6-46b5-957a-5e8908b02c1e\n",
      " ---\n",
      "Lil Xan\n",
      " \n",
      " ---\n",
      "Lil Shine\n",
      " d4c7d574-c8f8-4c7e-ab45-fc612df367ca\n",
      " ---\n",
      "Lil Loaded\n",
      " \n",
      " ---\n",
      "LIL GNAR\n",
      " \n",
      " ---\n",
      "lil mabu\n",
      " \n",
      " ---\n",
      "lilbubblegum\n",
      " \n",
      " ---\n",
      "Lilypichu\n",
      " \n",
      " ---\n",
      "Lilly Wood & The Prick\n",
      " 1b72331b-3a97-4981-a81c-eeee9c275d28\n",
      " ---\n",
      "LIL DUSTY G\n",
      " \n",
      " ---\n",
      "Lil Jon & The East Side Boyz\n",
      " 243c6f61-d83b-4459-bebd-5899df0da111\n",
      " ---\n",
      "Lily Chou-Chou\n",
      " 5652bb3e-f225-49de-9637-5aa1539b4a7c\n",
      " ---\n",
      "Lil Revive\n",
      " \n",
      " ---\n",
      "Lilac\n",
      " 1967c6ce-95a4-48f0-8ac7-abe637524aee\n",
      " ---\n",
      "Lil Jon\n",
      " a95384b1-6aec-468c-ae0d-8c6daf87c4c2\n",
      " ---\n",
      "Lil Eazzyy\n",
      " \n",
      " ---\n",
      "Fenne Lily\n",
      " \n",
      " ---\n",
      "LIL BO WEEP\n",
      " \n",
      " ---\n",
      "Lil Aaron\n",
      " \n",
      " ---\n",
      "Lil Kleine\n",
      " \n",
      " ---\n",
      "Lil Gotit\n",
      " \n",
      " ---\n",
      "Lily James\n",
      " \n",
      " ---\n",
      "Lil Candy Paint\n",
      " \n",
      " ---\n",
      "Lil Boodang\n",
      " \n",
      " ---\n",
      "Lil Mariko\n",
      " \n",
      " ---\n",
      "Lilly Wood and The Prick\n",
      " \n",
      " ---\n",
      "Lila Downs\n",
      " ad29ae1c-2eda-4071-9dc8-31910e7e546c\n",
      " ---\n",
      "Lil Lotus\n",
      " \n",
      " ---\n",
      "Lil God Dan\n",
      " \n",
      " ---\n",
      "The Tiger Lillies\n",
      " 3ad4f6ec-253f-4050-8849-ca26266edfb8\n",
      " ---\n"
     ]
    }
   ],
   "source": [
    "uni_artist = data['results']['artistmatches']['artist']\n",
    "\n",
    "for people in uni_artist:\n",
    "    artist_name = people['name']\n",
    "    uni_id = people['mbid']\n",
    "    print(f\"{artist_name}\\n {uni_id}\\n ---\")\n",
    "    "
   ]
  },
  {
   "attachments": {},
   "cell_type": "markdown",
   "metadata": {
    "collapsed": true
   },
   "source": [
    "## 5) Find the artist's name and bio using their `mbid`.\n",
    "\n",
    "It can either be Lil Jon or whoever you selected above.\n",
    "\n",
    "If you look at the [last.fm documentation](http://www.last.fm/api/show/artist.getInfo), you can see how to use the artist's `mbid` to find more information about them. Print **every tag associated with your artist**.\n",
    "\n",
    "- *Tip: It's a new request to the API*\n",
    "- *Tip: Use the `mbid`, and make sure you delete the `&name=Cher` from the sample endpoint*\n",
    "- *Tip: If you use `print` for the bio it looks a little nicer than it would otherwise*"
   ]
  },
  {
   "cell_type": "code",
   "execution_count": 298,
   "metadata": {},
   "outputs": [
    {
     "name": "stdout",
     "output_type": "stream",
     "text": [
      "{'artist': {'name': 'Lily Allen', 'mbid': '6e0c7c0e-cba5-4c2c-a652-38f71ef5785d', 'url': 'https://www.last.fm/music/Lily+Allen', 'image': [{'#text': 'https://lastfm.freetls.fastly.net/i/u/34s/2a96cbd8b46e442fc41c2b86b821562f.png', 'size': 'small'}, {'#text': 'https://lastfm.freetls.fastly.net/i/u/64s/2a96cbd8b46e442fc41c2b86b821562f.png', 'size': 'medium'}, {'#text': 'https://lastfm.freetls.fastly.net/i/u/174s/2a96cbd8b46e442fc41c2b86b821562f.png', 'size': 'large'}, {'#text': 'https://lastfm.freetls.fastly.net/i/u/300x300/2a96cbd8b46e442fc41c2b86b821562f.png', 'size': 'extralarge'}, {'#text': 'https://lastfm.freetls.fastly.net/i/u/300x300/2a96cbd8b46e442fc41c2b86b821562f.png', 'size': 'mega'}, {'#text': 'https://lastfm.freetls.fastly.net/i/u/300x300/2a96cbd8b46e442fc41c2b86b821562f.png', 'size': ''}], 'streamable': '0', 'ontour': '0', 'stats': {'listeners': '2681830', 'playcount': '82754637'}, 'similar': {'artist': [{'name': 'Kate Nash', 'url': 'https://www.last.fm/music/Kate+Nash', 'image': [{'#text': 'https://lastfm.freetls.fastly.net/i/u/34s/2a96cbd8b46e442fc41c2b86b821562f.png', 'size': 'small'}, {'#text': 'https://lastfm.freetls.fastly.net/i/u/64s/2a96cbd8b46e442fc41c2b86b821562f.png', 'size': 'medium'}, {'#text': 'https://lastfm.freetls.fastly.net/i/u/174s/2a96cbd8b46e442fc41c2b86b821562f.png', 'size': 'large'}, {'#text': 'https://lastfm.freetls.fastly.net/i/u/300x300/2a96cbd8b46e442fc41c2b86b821562f.png', 'size': 'extralarge'}, {'#text': 'https://lastfm.freetls.fastly.net/i/u/300x300/2a96cbd8b46e442fc41c2b86b821562f.png', 'size': 'mega'}, {'#text': 'https://lastfm.freetls.fastly.net/i/u/300x300/2a96cbd8b46e442fc41c2b86b821562f.png', 'size': ''}]}, {'name': 'Ke$ha', 'url': 'https://www.last.fm/music/Ke$ha', 'image': [{'#text': 'https://lastfm.freetls.fastly.net/i/u/34s/2a96cbd8b46e442fc41c2b86b821562f.png', 'size': 'small'}, {'#text': 'https://lastfm.freetls.fastly.net/i/u/64s/2a96cbd8b46e442fc41c2b86b821562f.png', 'size': 'medium'}, {'#text': 'https://lastfm.freetls.fastly.net/i/u/174s/2a96cbd8b46e442fc41c2b86b821562f.png', 'size': 'large'}, {'#text': 'https://lastfm.freetls.fastly.net/i/u/300x300/2a96cbd8b46e442fc41c2b86b821562f.png', 'size': 'extralarge'}, {'#text': 'https://lastfm.freetls.fastly.net/i/u/300x300/2a96cbd8b46e442fc41c2b86b821562f.png', 'size': 'mega'}, {'#text': 'https://lastfm.freetls.fastly.net/i/u/300x300/2a96cbd8b46e442fc41c2b86b821562f.png', 'size': ''}]}, {'name': 'Tove Lo', 'url': 'https://www.last.fm/music/Tove+Lo', 'image': [{'#text': 'https://lastfm.freetls.fastly.net/i/u/34s/2a96cbd8b46e442fc41c2b86b821562f.png', 'size': 'small'}, {'#text': 'https://lastfm.freetls.fastly.net/i/u/64s/2a96cbd8b46e442fc41c2b86b821562f.png', 'size': 'medium'}, {'#text': 'https://lastfm.freetls.fastly.net/i/u/174s/2a96cbd8b46e442fc41c2b86b821562f.png', 'size': 'large'}, {'#text': 'https://lastfm.freetls.fastly.net/i/u/300x300/2a96cbd8b46e442fc41c2b86b821562f.png', 'size': 'extralarge'}, {'#text': 'https://lastfm.freetls.fastly.net/i/u/300x300/2a96cbd8b46e442fc41c2b86b821562f.png', 'size': 'mega'}, {'#text': 'https://lastfm.freetls.fastly.net/i/u/300x300/2a96cbd8b46e442fc41c2b86b821562f.png', 'size': ''}]}, {'name': 'Pixie Lott', 'url': 'https://www.last.fm/music/Pixie+Lott', 'image': [{'#text': 'https://lastfm.freetls.fastly.net/i/u/34s/2a96cbd8b46e442fc41c2b86b821562f.png', 'size': 'small'}, {'#text': 'https://lastfm.freetls.fastly.net/i/u/64s/2a96cbd8b46e442fc41c2b86b821562f.png', 'size': 'medium'}, {'#text': 'https://lastfm.freetls.fastly.net/i/u/174s/2a96cbd8b46e442fc41c2b86b821562f.png', 'size': 'large'}, {'#text': 'https://lastfm.freetls.fastly.net/i/u/300x300/2a96cbd8b46e442fc41c2b86b821562f.png', 'size': 'extralarge'}, {'#text': 'https://lastfm.freetls.fastly.net/i/u/300x300/2a96cbd8b46e442fc41c2b86b821562f.png', 'size': 'mega'}, {'#text': 'https://lastfm.freetls.fastly.net/i/u/300x300/2a96cbd8b46e442fc41c2b86b821562f.png', 'size': ''}]}, {'name': 'Natalia Kills', 'url': 'https://www.last.fm/music/Natalia+Kills', 'image': [{'#text': 'https://lastfm.freetls.fastly.net/i/u/34s/2a96cbd8b46e442fc41c2b86b821562f.png', 'size': 'small'}, {'#text': 'https://lastfm.freetls.fastly.net/i/u/64s/2a96cbd8b46e442fc41c2b86b821562f.png', 'size': 'medium'}, {'#text': 'https://lastfm.freetls.fastly.net/i/u/174s/2a96cbd8b46e442fc41c2b86b821562f.png', 'size': 'large'}, {'#text': 'https://lastfm.freetls.fastly.net/i/u/300x300/2a96cbd8b46e442fc41c2b86b821562f.png', 'size': 'extralarge'}, {'#text': 'https://lastfm.freetls.fastly.net/i/u/300x300/2a96cbd8b46e442fc41c2b86b821562f.png', 'size': 'mega'}, {'#text': 'https://lastfm.freetls.fastly.net/i/u/300x300/2a96cbd8b46e442fc41c2b86b821562f.png', 'size': ''}]}]}, 'tags': {'tag': [{'name': 'pop', 'url': 'https://www.last.fm/tag/pop'}, {'name': 'female vocalists', 'url': 'https://www.last.fm/tag/female+vocalists'}, {'name': 'british', 'url': 'https://www.last.fm/tag/british'}, {'name': 'britpop', 'url': 'https://www.last.fm/tag/britpop'}, {'name': 'singer-songwriter', 'url': 'https://www.last.fm/tag/singer-songwriter'}]}, 'bio': {'links': {'link': {'#text': '', 'rel': 'original', 'href': 'https://last.fm/music/Lily+Allen/+wiki'}}, 'published': '15 Mar 2006, 00:44', 'summary': '\\nLily Rose Beatrice Allen (born 2 May 1985), known professionally as Lily Allen, is an English singer/songwriter, hailing from London, United Kingdom. She is the daughter of Keith Allen and film producer Alison Owen. Allen left school when she was 15 and concentrated on improving her performing and compositional skills. She started her musical career in 2002 by signing to London Records. In 2005, she made some of her recordings public on Myspace and the publicity resulted in airplay on BBC Radio 1 and a contract with Regal Recordings. <a href=\"https://www.last.fm/music/Lily+Allen\">Read more on Last.fm</a>', 'content': '\\nLily Rose Beatrice Allen (born 2 May 1985), known professionally as Lily Allen, is an English singer/songwriter, hailing from London, United Kingdom. She is the daughter of Keith Allen and film producer Alison Owen. Allen left school when she was 15 and concentrated on improving her performing and compositional skills. She started her musical career in 2002 by signing to London Records. In 2005, she made some of her recordings public on Myspace and the publicity resulted in airplay on BBC Radio 1 and a contract with Regal Recordings.\\n\\nHer first mainstream single, \"Smile\", reached number one on the UK Singles Chart in July 2006. Her debut record, Alright, Still, was well received, selling over 2.6 million copies worldwide and brought Allen a nomination at the Grammy Awards, BRIT Awards and MTV Video Music Awards. She began hosting her own talk-show, Lily Allen and Friends, on BBC Three.\\n\\nHer second studio album, It\\'s Not Me, It\\'s You, saw a genre shift, having more of an electropop feel, rather than the ska and reggae influences of the first one. The album debuted at number one on the UK Albums Chart and the Australian ARIA Charts and was well received by critics, noting the singer\\'s musical evolution and maturity. It spawned the hit singles \"The Fear\" and \"Fuck You\", popular mostly in Europe. Allen and Amy Winehouse have been credited with starting a process that led to the media-proclaimed \"year of the women\" in 2009 that saw five female artists making music of \"experimentalism and fearlessness\" nominated for the Mercury Prize.\\n\\n\\n\\n\\n\\n\\n\\n <a href=\"https://www.last.fm/music/Lily+Allen\">Read more on Last.fm</a>. User-contributed text is available under the Creative Commons By-SA License; additional terms may apply.'}}}\n"
     ]
    }
   ],
   "source": [
    "base = \"http://ws.audioscrobbler.com/2.0/\"\n",
    "mbid = \"6e0c7c0e-cba5-4c2c-a652-38f71ef5785d\"\n",
    "artist_url = f\"{base}?method=artist.getinfo&mbid={mbid}&api_key={api_key}&format=json\"\n",
    "\n",
    "response=requests.get(artist_url)\n",
    "data = response.json()\n",
    "\n",
    "print(data)"
   ]
  },
  {
   "cell_type": "code",
   "execution_count": 299,
   "metadata": {},
   "outputs": [
    {
     "data": {
      "text/plain": [
       "'Lily Allen'"
      ]
     },
     "execution_count": 299,
     "metadata": {},
     "output_type": "execute_result"
    }
   ],
   "source": [
    "data.keys()\n",
    "data['artist']['name']"
   ]
  },
  {
   "cell_type": "code",
   "execution_count": 300,
   "metadata": {},
   "outputs": [
    {
     "name": "stdout",
     "output_type": "stream",
     "text": [
      "\n",
      "Lily Rose Beatrice Allen (born 2 May 1985), known professionally as Lily Allen, is an English singer/songwriter, hailing from London, United Kingdom. She is the daughter of Keith Allen and film producer Alison Owen. Allen left school when she was 15 and concentrated on improving her performing and compositional skills. She started her musical career in 2002 by signing to London Records. In 2005, she made some of her recordings public on Myspace and the publicity resulted in airplay on BBC Radio 1 and a contract with Regal Recordings.\n",
      "\n",
      "Her first mainstream single, \"Smile\", reached number one on the UK Singles Chart in July 2006. Her debut record, Alright, Still, was well received, selling over 2.6 million copies worldwide and brought Allen a nomination at the Grammy Awards, BRIT Awards and MTV Video Music Awards. She began hosting her own talk-show, Lily Allen and Friends, on BBC Three.\n",
      "\n",
      "Her second studio album, It's Not Me, It's You, saw a genre shift, having more of an electropop feel, rather than the ska and reggae influences of the first one. The album debuted at number one on the UK Albums Chart and the Australian ARIA Charts and was well received by critics, noting the singer's musical evolution and maturity. It spawned the hit singles \"The Fear\" and \"Fuck You\", popular mostly in Europe. Allen and Amy Winehouse have been credited with starting a process that led to the media-proclaimed \"year of the women\" in 2009 that saw five female artists making music of \"experimentalism and fearlessness\" nominated for the Mercury Prize.\n",
      "\n",
      "\n",
      "\n",
      "\n",
      "\n",
      "\n",
      "\n",
      " <a href=\"https://www.last.fm/music/Lily+Allen\">Read more on Last.fm</a>. User-contributed text is available under the Creative Commons By-SA License; additional terms may apply.\n"
     ]
    }
   ],
   "source": [
    "# data['artist']['bio'].keys()\n",
    "print(data['artist']['bio']['content'])"
   ]
  },
  {
   "cell_type": "code",
   "execution_count": null,
   "metadata": {},
   "outputs": [],
   "source": []
  },
  {
   "attachments": {},
   "cell_type": "markdown",
   "metadata": {
    "collapsed": true
   },
   "source": [
    "## 6) Print every tag of that artist"
   ]
  },
  {
   "cell_type": "code",
   "execution_count": 301,
   "metadata": {},
   "outputs": [],
   "source": [
    "# data.keys()\n",
    "# data['artist'].keys()"
   ]
  },
  {
   "cell_type": "code",
   "execution_count": 302,
   "metadata": {},
   "outputs": [],
   "source": [
    "atags = data['artist']['tags']['tag']"
   ]
  },
  {
   "cell_type": "code",
   "execution_count": 303,
   "metadata": {},
   "outputs": [
    {
     "name": "stdout",
     "output_type": "stream",
     "text": [
      "pop\n",
      "female vocalists\n",
      "british\n",
      "britpop\n",
      "singer-songwriter\n"
     ]
    }
   ],
   "source": [
    "for tag in atags:\n",
    "    print(tag['name'])"
   ]
  },
  {
   "attachments": {},
   "cell_type": "markdown",
   "metadata": {},
   "source": [
    "# GETTING A LITTLE CRAZY\n",
    "\n",
    "So you know your original list of musicians? I want to get tag data for ALL OF THEM. How are we going to do that?\n",
    "\n",
    "## 7) Find the mbids (again)\n",
    "\n",
    "If we have a musician with an mbid of `AAA-AAA-AAA`, we get their info from a url like `http://ws.audioscrobbler.com/blahblah/?api_key=12345&mbid=AAA-AAA-AAA`.\n",
    "\n",
    "|artist|url|\n",
    "|---|---|\n",
    "|`AAA-AAA-AAA`|`http://ws.audioscrobbler.com/blahblah/?api_key=12345&mbid=AAA-AAA-AAA`|\n",
    "|`BBB-BBB-BBB`|`http://ws.audioscrobbler.com/blahblah/?api_key=12345&mbid=BBB-BBB-BBB`|\n",
    "|`CCC-CCC-CCC`|`http://ws.audioscrobbler.com/blahblah/?api_key=12345&mbid=CCC-CCC-CCC`|\n",
    "\n",
    "I guess we should start trying to get a list of all of the mbids.\n",
    "\n",
    "**Loop through your artists, and print out the `mbid` for each artist**\n",
    "\n",
    "- *Tip: You probably need to request your artist search result data again, because you probably saved over `data` with your other API request. Maybe call it `artist_data` this time?*\n",
    "- *Tip: If the artist does NOT have an `mbid`, don't print it.*"
   ]
  },
  {
   "cell_type": "code",
   "execution_count": 304,
   "metadata": {},
   "outputs": [
    {
     "name": "stdout",
     "output_type": "stream",
     "text": [
      "6e0c7c0e-cba5-4c2c-a652-38f71ef5785d\n",
      "ac9a487a-d9d2-4f27-bb23-0f4686488345\n",
      "c9cd225b-4883-428e-82c2-73e0b6282fb6\n",
      "5f1adfe1-4d07-4141-b181-79e5d379d539\n",
      "1550f952-c91b-40d7-9b4d-d26a259ee932\n",
      "3268f062-6e76-480a-a384-e1dd2a276afb\n",
      "bc1b5c95-e6d6-46b5-957a-5e8908b02c1e\n",
      "d4c7d574-c8f8-4c7e-ab45-fc612df367ca\n",
      "1b72331b-3a97-4981-a81c-eeee9c275d28\n",
      "243c6f61-d83b-4459-bebd-5899df0da111\n",
      "5652bb3e-f225-49de-9637-5aa1539b4a7c\n",
      "1967c6ce-95a4-48f0-8ac7-abe637524aee\n",
      "a95384b1-6aec-468c-ae0d-8c6daf87c4c2\n",
      "ad29ae1c-2eda-4071-9dc8-31910e7e546c\n",
      "3ad4f6ec-253f-4050-8849-ca26266edfb8\n"
     ]
    }
   ],
   "source": [
    "\n",
    "base = \"http://ws.audioscrobbler.com/2.0/\"\n",
    "artist = \"lil\"\n",
    "limit = 50\n",
    "artist_url = f\"{base}/?method=artist.search&artist={artist}&api_key={api_key}&limit={limit}&format=json\"\n",
    "\n",
    "response=requests.get(artist_url)\n",
    "data = response.json()\n",
    "\n",
    "artists = data['results']['artistmatches']['artist']\n",
    "\n",
    "for artist in artists:\n",
    "    if artist['mbid'] != '':\n",
    "        print(artist['mbid'])"
   ]
  },
  {
   "cell_type": "code",
   "execution_count": null,
   "metadata": {},
   "outputs": [],
   "source": []
  },
  {
   "attachments": {},
   "cell_type": "markdown",
   "metadata": {},
   "source": [
    "Your results should look something like\n",
    "\n",
    "```\n",
    "6e0c7c0e-cba5-4c2c-a652-38f71ef5785d\n",
    "1550f952-c91b-40d7-9b4d-d26a259ee932\n",
    "1b72331b-3a97-4981-a81c-eeee9c275d28\n",
    "5f1adfe1-4d07-4141-b181-79e5d379d539\n",
    "a95384b1-6aec-468c-ae0d-8c6daf87c4c2\n",
    "bc1b5c95-e6d6-46b5-957a-5e8908b02c1e\n",
    "243c6f61-d83b-4459-bebd-5899df0da111\n",
    "```"
   ]
  },
  {
   "attachments": {},
   "cell_type": "markdown",
   "metadata": {},
   "source": [
    "## 8) Saving those mbids\n",
    "\n",
    "For those `mbid` values, instead of printing them out, save them to a new list of just mbid values. Call this list `mbids`.\n",
    "\n",
    "- *Tip: Use `.append` to add a single element onto a list*"
   ]
  },
  {
   "cell_type": "code",
   "execution_count": 305,
   "metadata": {},
   "outputs": [
    {
     "name": "stdout",
     "output_type": "stream",
     "text": [
      "There are 15 mbids\n"
     ]
    }
   ],
   "source": [
    "mbids=[]\n",
    "for artist in artists:\n",
    "    if artist['mbid'] != '':\n",
    "        mbids.append(artist['mbid'])\n",
    "        # print('We have', len(mbids), mbids)\n",
    "print('There are', len(mbids), 'mbids')\n",
    "\n"
   ]
  },
  {
   "cell_type": "code",
   "execution_count": 306,
   "metadata": {},
   "outputs": [
    {
     "name": "stdout",
     "output_type": "stream",
     "text": [
      "6e0c7c0e-cba5-4c2c-a652-38f71ef5785d, \n",
      "ac9a487a-d9d2-4f27-bb23-0f4686488345, \n",
      "c9cd225b-4883-428e-82c2-73e0b6282fb6, \n",
      "5f1adfe1-4d07-4141-b181-79e5d379d539, \n",
      "1550f952-c91b-40d7-9b4d-d26a259ee932, \n",
      "3268f062-6e76-480a-a384-e1dd2a276afb, \n",
      "bc1b5c95-e6d6-46b5-957a-5e8908b02c1e, \n",
      "d4c7d574-c8f8-4c7e-ab45-fc612df367ca, \n",
      "1b72331b-3a97-4981-a81c-eeee9c275d28, \n",
      "243c6f61-d83b-4459-bebd-5899df0da111, \n",
      "5652bb3e-f225-49de-9637-5aa1539b4a7c, \n",
      "1967c6ce-95a4-48f0-8ac7-abe637524aee, \n",
      "a95384b1-6aec-468c-ae0d-8c6daf87c4c2, \n",
      "ad29ae1c-2eda-4071-9dc8-31910e7e546c, \n",
      "3ad4f6ec-253f-4050-8849-ca26266edfb8\n"
     ]
    }
   ],
   "source": [
    "print(', \\n'.join(mbids)) \n"
   ]
  },
  {
   "attachments": {},
   "cell_type": "markdown",
   "metadata": {},
   "source": [
    "Your results should look something like\n",
    "\n",
    "```['6e0c7c0e-cba5-4c2c-a652-38f71ef5785d',\n",
    " '1550f952-c91b-40d7-9b4d-d26a259ee932',\n",
    " '1b72331b-3a97-4981-a81c-eeee9c275d28',\n",
    " '5f1adfe1-4d07-4141-b181-79e5d379d539',\n",
    " 'a95384b1-6aec-468c-ae0d-8c6daf87c4c2',\n",
    " 'bc1b5c95-e6d6-46b5-957a-5e8908b02c1e',\n",
    " '243c6f61-d83b-4459-bebd-5899df0da111',\n",
    " '8ba17cf6-bec2-4ae4-9820-b1cda47adc08',\n",
    " 'ad29ae1c-2eda-4071-9dc8-31910e7e546c',\n",
    " '3268f062-6e76-480a-a384-e1dd2a276afb',\n",
    " '3ad4f6ec-253f-4050-8849-ca26266edfb8',\n",
    " '9b5ce0c1-1bc0-4ea2-a8d3-f5ee7af9eda8',\n",
    " '981d39fc-bd00-4cc6-ac67-6410f8b89098',\n",
    " 'b89f4c50-72f5-48ce-b08c-a643b191b24f',\n",
    " 'bc21df5c-3d79-479b-b638-8ddb5ecea403',\n",
    " 'c9cd225b-4883-428e-82c2-73e0b6282fb6',\n",
    " '9acaf734-b380-4c48-954c-a2cf1d7990a9',\n",
    " 'd4d5ae85-700c-4a55-8a39-7f923da07ef2',\n",
    " '77fafce8-a32f-4d42-bdce-266bbf913cee',\n",
    " '50ad1cde-1536-4268-a55f-e47a7b8280ab',\n",
    " '9803d120-716d-45ba-9eb7-9a120813f908',\n",
    " 'b27560ea-2783-4a91-be45-9e8711917562',\n",
    " '194e87c9-b3fe-4fbd-82a7-8c54b4dd4c76',\n",
    " 'fd90af91-ed07-4e85-8816-26c954fe5286',\n",
    " '5652bb3e-f225-49de-9637-5aa1539b4a7c']```"
   ]
  },
  {
   "attachments": {},
   "cell_type": "markdown",
   "metadata": {},
   "source": [
    "## 9) Printing our API urls\n",
    "\n",
    "To get tag data for each artist, you need to use those `mbid` values to access their artist page on the API. Loop through the mbids, displying the URL you'll need to access.\n",
    "\n",
    "- *Tip: You don't want to use a comma when printing, because commas add spaces into your text and URLs can't have that*\n",
    "- *Tip: Make sure your URL has `artist.getinfo` in it - if not, you're using the wrong endpoint.*"
   ]
  },
  {
   "cell_type": "code",
   "execution_count": 307,
   "metadata": {},
   "outputs": [
    {
     "name": "stdout",
     "output_type": "stream",
     "text": [
      "http://ws.audioscrobbler.com/2.0//?method=artist.getinfo&mbid=6e0c7c0e-cba5-4c2c-a652-38f71ef5785d&api_key=0eeecef18a0379f51ddddbf44ffda667&format=json\n",
      "http://ws.audioscrobbler.com/2.0//?method=artist.getinfo&mbid=ac9a487a-d9d2-4f27-bb23-0f4686488345&api_key=0eeecef18a0379f51ddddbf44ffda667&format=json\n",
      "http://ws.audioscrobbler.com/2.0//?method=artist.getinfo&mbid=c9cd225b-4883-428e-82c2-73e0b6282fb6&api_key=0eeecef18a0379f51ddddbf44ffda667&format=json\n",
      "http://ws.audioscrobbler.com/2.0//?method=artist.getinfo&mbid=5f1adfe1-4d07-4141-b181-79e5d379d539&api_key=0eeecef18a0379f51ddddbf44ffda667&format=json\n",
      "http://ws.audioscrobbler.com/2.0//?method=artist.getinfo&mbid=1550f952-c91b-40d7-9b4d-d26a259ee932&api_key=0eeecef18a0379f51ddddbf44ffda667&format=json\n",
      "http://ws.audioscrobbler.com/2.0//?method=artist.getinfo&mbid=3268f062-6e76-480a-a384-e1dd2a276afb&api_key=0eeecef18a0379f51ddddbf44ffda667&format=json\n",
      "http://ws.audioscrobbler.com/2.0//?method=artist.getinfo&mbid=bc1b5c95-e6d6-46b5-957a-5e8908b02c1e&api_key=0eeecef18a0379f51ddddbf44ffda667&format=json\n",
      "http://ws.audioscrobbler.com/2.0//?method=artist.getinfo&mbid=d4c7d574-c8f8-4c7e-ab45-fc612df367ca&api_key=0eeecef18a0379f51ddddbf44ffda667&format=json\n",
      "http://ws.audioscrobbler.com/2.0//?method=artist.getinfo&mbid=1b72331b-3a97-4981-a81c-eeee9c275d28&api_key=0eeecef18a0379f51ddddbf44ffda667&format=json\n",
      "http://ws.audioscrobbler.com/2.0//?method=artist.getinfo&mbid=243c6f61-d83b-4459-bebd-5899df0da111&api_key=0eeecef18a0379f51ddddbf44ffda667&format=json\n",
      "http://ws.audioscrobbler.com/2.0//?method=artist.getinfo&mbid=5652bb3e-f225-49de-9637-5aa1539b4a7c&api_key=0eeecef18a0379f51ddddbf44ffda667&format=json\n",
      "http://ws.audioscrobbler.com/2.0//?method=artist.getinfo&mbid=1967c6ce-95a4-48f0-8ac7-abe637524aee&api_key=0eeecef18a0379f51ddddbf44ffda667&format=json\n",
      "http://ws.audioscrobbler.com/2.0//?method=artist.getinfo&mbid=a95384b1-6aec-468c-ae0d-8c6daf87c4c2&api_key=0eeecef18a0379f51ddddbf44ffda667&format=json\n",
      "http://ws.audioscrobbler.com/2.0//?method=artist.getinfo&mbid=ad29ae1c-2eda-4071-9dc8-31910e7e546c&api_key=0eeecef18a0379f51ddddbf44ffda667&format=json\n",
      "http://ws.audioscrobbler.com/2.0//?method=artist.getinfo&mbid=3ad4f6ec-253f-4050-8849-ca26266edfb8&api_key=0eeecef18a0379f51ddddbf44ffda667&format=json\n"
     ]
    }
   ],
   "source": [
    "base = \"http://ws.audioscrobbler.com/2.0/\"\n",
    "\n",
    "for mbid in mbids: \n",
    "    # print(mbid)\n",
    "    print(f\"{base}/?method=artist.getinfo&mbid={mbid}&api_key={api_key}&format=json\" )"
   ]
  },
  {
   "attachments": {},
   "cell_type": "markdown",
   "metadata": {},
   "source": [
    "Your results should look something like\n",
    "\n",
    "```http://ws.audioscrobbler.com/2.0/?method=artist.getinfo&api_key=XXXXX&format=json&mbid=6e0c7c0e-cba5-4c2c-a652-38f71ef5785d\n",
    "http://ws.audioscrobbler.com/2.0/?method=artist.getinfo&api_key=XXXXX&format=json&mbid=1550f952-c91b-40d7-9b4d-d26a259ee932\n",
    "http://ws.audioscrobbler.com/2.0/?method=artist.getinfo&api_key=XXXXX&format=json&mbid=1b72331b-3a97-4981-a81c-eeee9c275d28\n",
    "http://ws.audioscrobbler.com/2.0/?method=artist.getinfo&api_key=XXXXX&format=json&mbid=5f1adfe1-4d07-4141-b181-79e5d379d539\n",
    "http://ws.audioscrobbler.com/2.0/?method=artist.getinfo&api_key=XXXXX&format=json&mbid=a95384b1-6aec-468c-ae0d-8c6daf87c4c2\n",
    "http://ws.audioscrobbler.com/2.0/?method=artist.getinfo&api_key=XXXXX&format=json&mbid=bc1b5c95-e6d6-46b5-957a-5e8908b02c1e```"
   ]
  },
  {
   "attachments": {},
   "cell_type": "markdown",
   "metadata": {},
   "source": [
    "## OKAY HERE IS A LITTLE INFORMATION: Using our API urls\n",
    "\n",
    "This time instead of just *displaying* the URL, we're going to *request and process it*. **But first I'm going to teach you something.**\n",
    "\n",
    "When you're dealing with an API, you don't want to make a million requests, have bad code, and then need to do those million requests again. It's usually best to test your code with a few of the results first.\n",
    "\n",
    "So, if we have a list of numbers like this:"
   ]
  },
  {
   "cell_type": "code",
   "execution_count": 308,
   "metadata": {},
   "outputs": [
    {
     "data": {
      "text/plain": [
       "[4, 5, 6, 7]"
      ]
     },
     "execution_count": 308,
     "metadata": {},
     "output_type": "execute_result"
    }
   ],
   "source": [
    "numbers = [4, 5, 6, 7]\n",
    "numbers"
   ]
  },
  {
   "attachments": {},
   "cell_type": "markdown",
   "metadata": {},
   "source": [
    "You can actually say to Python, **give me the first two**, and it will only give you the first two."
   ]
  },
  {
   "cell_type": "code",
   "execution_count": 309,
   "metadata": {},
   "outputs": [
    {
     "data": {
      "text/plain": [
       "[4, 5]"
      ]
     },
     "execution_count": 309,
     "metadata": {},
     "output_type": "execute_result"
    }
   ],
   "source": [
    "numbers[:2]"
   ]
  },
  {
   "attachments": {},
   "cell_type": "markdown",
   "metadata": {},
   "source": [
    "The is **very convenient** with loopng with APIs, because instead of trying to use all FIFTY artists, you can just say \"hey, please try this out with 2 of them\" and you don't waste time."
   ]
  },
  {
   "attachments": {},
   "cell_type": "markdown",
   "metadata": {},
   "source": [
    "## 10) Using the first three `mbids`, request the API urls and print the artist's name.\n",
    "\n",
    "You built the URLs in the last question, now it's time to use them! Use `requests` etc to grab the URL and get out the artist's name.\n",
    "\n",
    "- *Tip: The code is the same as last time you got an artist's name from their info page, it's just going to be inside of a loop*\n",
    "- *Tip: USE `PRINT` TO SEE WHAT YOU ARE LOOKING AT!!!!!*"
   ]
  },
  {
   "cell_type": "code",
   "execution_count": 312,
   "metadata": {},
   "outputs": [
    {
     "name": "stdout",
     "output_type": "stream",
     "text": [
      "Lily Allen\n",
      "Lil Wayne\n",
      "Lil Durk\n"
     ]
    }
   ],
   "source": [
    "# mbids[:3]\n",
    "for mbid in mbids[:3]: \n",
    "    # print(mbid)\n",
    "    url= f\"{base}/?method=artist.getinfo&mbid={mbid}&api_key={api_key}&format=json\" \n",
    "    response=requests.get(url)\n",
    "    data = response.json()\n",
    "    artists = data['artist']['name']\n",
    "    # art = data.keys()\n",
    "    # print(artists)\n",
    "    print(artists)"
   ]
  },
  {
   "attachments": {},
   "cell_type": "markdown",
   "metadata": {},
   "source": [
    "## 11) Using the first three `mbids`, request the API urls and print the artist's name and their tags\n",
    "\n",
    "- *Tip: The code is the same as last time you got an artist's name from their info page, it's just going to be inside of a loop*\n",
    "- *Tip: It's a for loop in a for loop!*"
   ]
  },
  {
   "cell_type": "code",
   "execution_count": 321,
   "metadata": {},
   "outputs": [
    {
     "name": "stdout",
     "output_type": "stream",
     "text": [
      "Lily Allen\n",
      "Tag: pop\n",
      "Tag: female vocalists\n",
      "Tag: british\n",
      "Tag: britpop\n",
      "Tag: singer-songwriter\n",
      "\n",
      " ________\n",
      "Lil Wayne\n",
      "Tag: rap\n",
      "Tag: Hip-Hop\n",
      "Tag: hip hop\n",
      "Tag: Gangsta Rap\n",
      "Tag: Dirty South\n",
      "\n",
      " ________\n",
      "Lil Durk\n",
      "Tag: rap\n",
      "Tag: drill\n",
      "Tag: Hip-Hop\n",
      "Tag: trap\n",
      "Tag: hip hop\n",
      "\n",
      " ________\n"
     ]
    }
   ],
   "source": [
    "for mbid in mbids[:3]: \n",
    "    # print(mbid)\n",
    "    url= f\"{base}/?method=artist.getinfo&mbid={mbid}&api_key={api_key}&format=json\" \n",
    "    response=requests.get(url)\n",
    "    data = response.json()\n",
    "    artists = data['artist']['name']\n",
    "    print(artists)\n",
    "    tags = data['artist']['tags']['tag']\n",
    "    for tag in tags:\n",
    "        actualtags= tag['name']\n",
    "        print('Tag:',actualtags)\n",
    "    print('\\n', '________')\n",
    "    # art = data.keys()\n",
    "    # print(artists)\n",
    "    # print(artists,'\\n', 'Tags are:',actualtags,'\\n', '________')"
   ]
  },
  {
   "attachments": {},
   "cell_type": "markdown",
   "metadata": {},
   "source": [
    "## 12) Using the first ten mbids, print the artist's name and whether they're a rapper\n",
    "\n",
    "Only print their name ONCE and only print whether they are hip hop or not ONCE.\n",
    "\n",
    "- *Tip: Rap tags include hip hop, swag, crunk, rap, dirty south, and probably a bunch of other stuff! You can include as many categories as you'd like.*\n",
    "- *Tip: You can use `2 in [1, 2, 3]` to find out if `2` is in the list of `[1, 2, 3]`.*\n",
    "- *Tip: Every time you look at a new artist, you can say they are NOT a rapper. And once you find out one of their tags is hip hop or rap, then you can note that they're a rapper. Then once you're done looking at their tags, then you can say HEY this is a rapper, or HEY this is not a rapper.*"
   ]
  },
  {
   "cell_type": "code",
   "execution_count": 339,
   "metadata": {},
   "outputs": [
    {
     "name": "stdout",
     "output_type": "stream",
     "text": [
      "Artist:  Lily Allen\n",
      "NO hip hop\n",
      "\n",
      " --*--*--*--\n",
      "Artist:  Lil Wayne\n",
      "YES hip hop\n",
      "\n",
      " --*--*--*--\n",
      "Artist:  Lil Durk\n",
      "YES hip hop\n",
      "\n",
      " --*--*--*--\n",
      "Artist:  Lil Ugly Mane\n",
      "YES hip hop\n",
      "\n",
      " --*--*--*--\n",
      "Artist:  Lil B\n",
      "YES hip hop\n",
      "\n",
      " --*--*--*--\n"
     ]
    }
   ],
   "source": [
    "for mbid in mbids[:5]: \n",
    "    is_rapper = False\n",
    "    url= f\"{base}/?method=artist.getinfo&mbid={mbid}&api_key={api_key}&format=json\" \n",
    "    response=requests.get(url)\n",
    "    data = response.json()\n",
    "    artists = data['artist']['name']\n",
    "    print(\"Artist: \",artists)\n",
    "    tags = data['artist']['tags']['tag']\n",
    "\n",
    "    \n",
    "    for tag in tags:\n",
    "        actualtags= tag['name']\n",
    "        # print('Tag:',actualtags)\n",
    "        rappers = ['Hip-Hop', 'swag', 'crunk', 'rap', 'dirty south', 'gangsta rap']\n",
    "        if tag['name'] in rappers:\n",
    "            is_rapper = True\n",
    "\n",
    "\n",
    "    #stating the whole is a rapper condition\n",
    "    if is_rapper:\n",
    "        print(\"YES hip hop\")\n",
    "    else:\n",
    "        print(\"NO hip hop\")\n",
    "\n",
    "\n",
    "    # print( artists)\n",
    "    print('\\n', '--*--*--*--')"
   ]
  },
  {
   "attachments": {},
   "cell_type": "markdown",
   "metadata": {},
   "source": [
    "Your results might look something like\n",
    "\n",
    "```ARTIST: Lily Allen\n",
    "NO hip hop\n",
    "ARTIST: Lil B\n",
    "YES hip hop\n",
    "ARTIST: Lilly Wood & The Prick\n",
    "NO hip hop\n",
    "ARTIST: Lil Ugly Mane\n",
    "YES hip hop\n",
    "ARTIST: Lil Jon\n",
    "YES hip hop\n",
    "ARTIST: Lil' Kim\n",
    "YES hip hop\n",
    "ARTIST: Lil Jon & The East Side Boyz\n",
    "YES hip hop\n",
    "```"
   ]
  },
  {
   "attachments": {},
   "cell_type": "markdown",
   "metadata": {
    "collapsed": true
   },
   "source": [
    "## 13) What percent of \"lil\" results are rappers?"
   ]
  },
  {
   "cell_type": "code",
   "execution_count": 345,
   "metadata": {},
   "outputs": [
    {
     "name": "stdout",
     "output_type": "stream",
     "text": [
      "Artist:  Lily Allen\n",
      "\n",
      " --*--*--*--\n",
      "Artist:  Lil Wayne\n",
      "Found 1\n",
      "\n",
      " --*--*--*--\n",
      "Artist:  Lil Durk\n",
      "Found 2\n",
      "\n",
      " --*--*--*--\n",
      "Artist:  Lil Ugly Mane\n",
      "Found 3\n",
      "\n",
      " --*--*--*--\n",
      "Artist:  Lil B\n",
      "Found 4\n",
      "\n",
      " --*--*--*--\n",
      "Artist:  Lil Dicky\n",
      "Found 5\n",
      "\n",
      " --*--*--*--\n",
      "Artist:  Lil' Kim\n",
      "Found 6\n",
      "\n",
      " --*--*--*--\n",
      "Artist:  Lil Shine\n",
      "Found 7\n",
      "\n",
      " --*--*--*--\n",
      "Artist:  Lilly Wood & The Prick\n",
      "\n",
      " --*--*--*--\n",
      "Artist:  Lil Jon & The East Side Boyz\n",
      "Found 8\n",
      "\n",
      " --*--*--*--\n",
      "Artist:  Lily Chou-Chou\n",
      "\n",
      " --*--*--*--\n",
      "Artist:  Lilac\n",
      "\n",
      " --*--*--*--\n",
      "Artist:  Lil Jon\n",
      "Found 9\n",
      "\n",
      " --*--*--*--\n",
      "Artist:  Lila Downs\n",
      "\n",
      " --*--*--*--\n",
      "Artist:  The Tiger Lillies\n",
      "\n",
      " --*--*--*--\n"
     ]
    }
   ],
   "source": [
    "total_rap=0\n",
    "\n",
    "for mbid in mbids: \n",
    "    is_rapper = False\n",
    "    url= f\"{base}/?method=artist.getinfo&mbid={mbid}&api_key={api_key}&format=json\" \n",
    "    response=requests.get(url)\n",
    "    data = response.json()\n",
    "    artists = data['artist']['name']\n",
    "    print(\"Artist: \",artists)\n",
    "    tags = data['artist']['tags']['tag']\n",
    "\n",
    "    \n",
    "    for tag in tags:\n",
    "        actualtags= tag['name']\n",
    "        # print('Tag:',actualtags)\n",
    "        rappers = ['Hip-Hop', 'swag', 'crunk', 'rap', 'dirty south', 'gangsta rap']\n",
    "        if tag['name'] in rappers:\n",
    "            is_rapper = True\n",
    "\n",
    "\n",
    "    #stating the whole is a wrapper condition\n",
    "    if is_rapper:\n",
    "        total_rap = total_rap +1\n",
    "        print(\"Found\", total_rap)\n",
    "    \n",
    "\n",
    "    # print( artists)\n",
    "    print('\\n', '--*--*--*--')"
   ]
  },
  {
   "cell_type": "code",
   "execution_count": 346,
   "metadata": {},
   "outputs": [
    {
     "data": {
      "text/plain": [
       "60.0"
      ]
     },
     "execution_count": 346,
     "metadata": {},
     "output_type": "execute_result"
    }
   ],
   "source": [
    "#Percent of rappers!\n",
    "total_rap/len(mbids) *100"
   ]
  },
  {
   "attachments": {},
   "cell_type": "markdown",
   "metadata": {},
   "source": [
    "## 14) Seriously you are all-powerful now."
   ]
  },
  {
   "cell_type": "code",
   "execution_count": null,
   "metadata": {},
   "outputs": [],
   "source": []
  }
 ],
 "metadata": {
  "kernelspec": {
   "display_name": "Python 3",
   "language": "python",
   "name": "python3"
  },
  "language_info": {
   "codemirror_mode": {
    "name": "ipython",
    "version": 3
   },
   "file_extension": ".py",
   "mimetype": "text/x-python",
   "name": "python",
   "nbconvert_exporter": "python",
   "pygments_lexer": "ipython3",
   "version": "3.10.11"
  }
 },
 "nbformat": 4,
 "nbformat_minor": 1
}
